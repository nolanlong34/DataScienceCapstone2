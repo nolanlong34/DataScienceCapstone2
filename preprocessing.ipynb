{
 "cells": [
  {
   "cell_type": "code",
   "execution_count": 67,
   "metadata": {},
   "outputs": [],
   "source": [
    "#loads dependancies\n",
    "import pandas as pd\n",
    "import numpy as np\n",
    "from sklearn.model_selection import train_test_split\n",
    "from sklearn.preprocessing import StandardScaler\n",
    "from sklearn.preprocessing import LabelEncoder"
   ]
  },
  {
   "cell_type": "code",
   "execution_count": 68,
   "metadata": {},
   "outputs": [],
   "source": [
    "#loads the dataset and resets the index\n",
    "bay_df = pd.read_excel('bay_area_apt_data.xlsx',index_col=0)\n",
    "bay_df.reset_index(drop=True, inplace=True)\n",
    "bay_df = bay_df.drop(columns = 'price_per_sqft', axis=1)"
   ]
  },
  {
   "cell_type": "code",
   "execution_count": 69,
   "metadata": {},
   "outputs": [],
   "source": [
    "#encodes the categorical data\n",
    "le = LabelEncoder()\n",
    "bay_df_encode = bay_df.copy()\n",
    "bay_df_encode['cityname'] = le.fit_transform(bay_df['cityname'])\n",
    "bay_df_encode['address'] = le.fit_transform(bay_df['address'])\n",
    "bay_df_encode['bathrooms'] = le.fit_transform(bay_df['bathrooms'])\n",
    "\n"
   ]
  },
  {
   "cell_type": "code",
   "execution_count": 70,
   "metadata": {},
   "outputs": [],
   "source": [
    "#removes the rows with null values\n",
    "bay_df_encode = bay_df_encode.dropna()"
   ]
  },
  {
   "cell_type": "code",
   "execution_count": 71,
   "metadata": {},
   "outputs": [],
   "source": [
    "#creates a new data frame with a standard scaler\n",
    "scaler = StandardScaler()\n",
    "bay_df_scaled = bay_df_encode.copy()\n",
    "bay_df_scaled[['square_feet','latitude','longitude']] = scaler.fit_transform(bay_df_encode[['square_feet','latitude','longitude']])"
   ]
  },
  {
   "cell_type": "code",
   "execution_count": 72,
   "metadata": {},
   "outputs": [],
   "source": [
    "#splits the data into training and testing data\n",
    "X = bay_df_scaled.drop('price', axis=1)\n",
    "y = bay_df_scaled['price']\n",
    "X_train, X_test, y_train, y_test = train_test_split(X, y, test_size=0.2, random_state=34)"
   ]
  },
  {
   "cell_type": "code",
   "execution_count": 73,
   "metadata": {},
   "outputs": [],
   "source": [
    "X_train.to_csv('X_train.csv')\n",
    "X_test.to_csv('X_test.csv')\n",
    "y_train.to_csv('y_train.csv')\n",
    "y_test.to_csv('y_test.csv')"
   ]
  }
 ],
 "metadata": {
  "kernelspec": {
   "display_name": "base",
   "language": "python",
   "name": "python3"
  },
  "language_info": {
   "codemirror_mode": {
    "name": "ipython",
    "version": 3
   },
   "file_extension": ".py",
   "mimetype": "text/x-python",
   "name": "python",
   "nbconvert_exporter": "python",
   "pygments_lexer": "ipython3",
   "version": "5.0.0"
  }
 },
 "nbformat": 4,
 "nbformat_minor": 2
}
